{
  "nbformat": 4,
  "nbformat_minor": 0,
  "metadata": {
    "colab": {
      "name": "Lifting Progress",
      "provenance": []
    },
    "kernelspec": {
      "name": "python3",
      "display_name": "Python 3"
    }
  },
  "cells": [
    {
      "cell_type": "markdown",
      "metadata": {
        "id": "-7JN__PgYhhP"
      },
      "source": [
        "# Lifting Progress\n",
        "\n",
        "Exercise data is periodically exported from [Strong](http://) into Google Drive. This notebook takes that data and does a basic analysis on it.\n",
        "\n",
        "Goals for one-rep-max are to be accomplished by the 42nd birthday (June 15, 2021). Some of these are definitely stretch goals."
      ]
    },
    {
      "cell_type": "code",
      "metadata": {
        "id": "9YFoiJavmdbJ"
      },
      "source": [
        "import datetime\n",
        "\n",
        "import matplotlib.pyplot as plt\n",
        "import numpy as np\n",
        "import pandas as pd\n",
        "import scipy.stats as sp\n",
        "from sklearn.linear_model import LinearRegression\n",
        "from IPython.core.display import display, HTML"
      ],
      "execution_count": 2,
      "outputs": []
    },
    {
      "cell_type": "markdown",
      "metadata": {
        "id": "99eShCMWmYsu"
      },
      "source": [
        "## Utility Functions"
      ]
    },
    {
      "cell_type": "code",
      "metadata": {
        "id": "hHGvysceaqUF"
      },
      "source": [
        "def one_rep_max(weight, reps):\n",
        "    \"\"\"Calculate one rep max using the Brzycki method.\"\"\"\n",
        "    return weight * (36 / (37 - reps))\n",
        "\n",
        "\n",
        "def date_parser(s):\n",
        "    \"\"\"Take a datetime string and return a Date instance.\"\"\"\n",
        "    return datetime.datetime.strptime(s, \"%Y-%m-%d %H:%M:%S\").date()"
      ],
      "execution_count": null,
      "outputs": []
    },
    {
      "cell_type": "code",
      "metadata": {
        "id": "CfV62juf3ah8"
      },
      "source": [
        "#\n",
        "# Used for diplaying rich content in the output cell\n",
        "\n",
        "def header(text, size=2):\n",
        "    \"\"\"Display a header in the output.\"\"\"\n",
        "    display(HTML(f\"<h{size}>{text}</h{size}>\"))\n",
        "\n",
        "\n",
        "def vertical_sep(count=2):\n",
        "    \"\"\"Display a newline in the output.\"\"\"\n",
        "    display(HTML(\"\".join([\"<br>\"] * count)))"
      ],
      "execution_count": null,
      "outputs": []
    },
    {
      "cell_type": "markdown",
      "metadata": {
        "id": "JQs7-Vg-dbQK"
      },
      "source": [
        "## Data Setup"
      ]
    },
    {
      "cell_type": "code",
      "metadata": {
        "id": "bBrRmiXNmN5X"
      },
      "source": [
        "# Some dates to represent this analysis time period\n",
        "start_date = datetime.date(month=11, day=21, year=2020)\n",
        "end_date = datetime.date(month=6, day=15, year=2021)\n",
        "today = datetime.date.today()\n",
        "program_days = (end_date - start_date).days"
      ],
      "execution_count": null,
      "outputs": []
    },
    {
      "cell_type": "code",
      "metadata": {
        "id": "AyoE0aFZrM2P"
      },
      "source": [
        "# Load data from CSV\n",
        "df = pd.read_csv(\n",
        "    \"https://raw.githubusercontent.com/dstanek/lifting/main/strong.csv\",\n",
        "    sep=\";\",\n",
        "    parse_dates=[\"Date\"],\n",
        "    date_parser=date_parser,\n",
        "    index_col=\"Date\",\n",
        ")\n",
        "\n",
        "# Filter data so that we are only looking after my pandemic break\n",
        "df = df.loc[df.index >= str(start_date)]\n",
        "\n",
        "# Remove colums that we don't care about to declutter the output\n",
        "df = df.drop(columns=[\n",
        "    \"Set Order\",\n",
        "    \"RPE\",\n",
        "    \"Distance\",\n",
        "    \"Distance Unit\",\n",
        "    \"Seconds\",\n",
        "    \"Notes\",\n",
        "    \"Workout Notes\",\n",
        "])\n",
        "\n",
        "# Rename column \"Exercise Name\" to \"Exercise\" for cleaner code\n",
        "df.rename(columns={\"Exercise Name\": \"Exercise\", \"Workout Name\": \"Workout\"}, inplace=True)\n",
        "\n",
        "# Add a one-rep-max column\n",
        "df[\"ORM\"] = one_rep_max(df.Weight, df.Reps)\n",
        "\n",
        "df[\"days_from_start\"] = (df.index - df.index[0]).days\n",
        "\n",
        "df"
      ],
      "execution_count": null,
      "outputs": []
    },
    {
      "cell_type": "markdown",
      "metadata": {
        "id": "TVXw4C0idlvv"
      },
      "source": [
        "## Output Setup"
      ]
    },
    {
      "cell_type": "code",
      "metadata": {
        "id": "zYDS-LwZdoQf"
      },
      "source": [
        "# Adjust the size of the charts to be 3x\n",
        "plt.rcParams[\"figure.figsize\"] = (18, 12)\n",
        "plt.rcParams[\"axes.titlesize\"] = \"x-large\"\n",
        "plt.rcParams[\"axes.labelsize\"] = \"large\""
      ],
      "execution_count": 17,
      "outputs": []
    },
    {
      "cell_type": "markdown",
      "metadata": {
        "id": "eYVjOMyedhGz"
      },
      "source": [
        "## One-Rep-Max"
      ]
    },
    {
      "cell_type": "code",
      "metadata": {
        "id": "t9cm4ATfddzS"
      },
      "source": [
        "# Create a group containing the ORM for each exercise for each day\n",
        "orm_groups = df.groupby([\"Exercise\", \"Date\"], as_index=False).max(\"ORM\")\n",
        "\n",
        "# Group the ORM data by exercise\n",
        "orm_groups = orm_groups.groupby(\"Exercise\")"
      ],
      "execution_count": null,
      "outputs": []
    },
    {
      "cell_type": "code",
      "metadata": {
        "id": "8k103r67PTnc"
      },
      "source": [
        "# Load goals from the CSV\n",
        "goal_df = pd.read_csv(\"https://raw.githubusercontent.com/dstanek/lifting/main/orm_goals.csv\")\n",
        "orm_goals = dict(zip(goal_df[\"Exercise Name\"], goal_df.Weight))"
      ],
      "execution_count": null,
      "outputs": []
    },
    {
      "cell_type": "markdown",
      "metadata": {
        "id": "JisIKrsgYgp0"
      },
      "source": [
        ""
      ]
    },
    {
      "cell_type": "code",
      "metadata": {
        "id": "F8I70yA7TDCy"
      },
      "source": [
        "def graph_exercise_orm(exercise, df):\n",
        "    \"\"\"Draw a graph for a given exercise using the provided group data.\n",
        "\n",
        "    Goal lines are drawn if there is a one-rep-max goal for the exercise.\n",
        "    \"\"\"\n",
        "    f, ax = plt.subplots(1, 1)\n",
        "\n",
        "    goal = orm_goals.get(exercise)\n",
        "    if not goal:\n",
        "        df.plot(ax=ax, x=\"days_from_start\", y=\"ORM\", title=f\"ORM: {exercise}\", label=\"Actual one-rep-max\")\n",
        "\n",
        "    else:\n",
        "        X = df.days_from_start.values.reshape(-1, 1)\n",
        "        Y = df.ORM.values\n",
        "        model = LinearRegression().fit(X, Y)\n",
        "        prediction_line = model.predict(X)\n",
        "        ending_prediction = model.predict([[program_days]])\n",
        "\n",
        "        if ending_prediction > goal:\n",
        "            color = \"green\"\n",
        "        else:\n",
        "            color = \"red\"\n",
        "\n",
        "        ax.axhline(y=goal, color=\"black\", linestyle=\":\", label=f\"Goal: {goal} lbs.\")\n",
        "        df.plot(ax=ax, x=\"days_from_start\", y=\"ORM\", title=f\"ORM: {exercise}\", label=\"Actual one-rep-max\", color=color)\n",
        "\n",
        "        # This will display *before* the graph\n",
        "        print(f\"Goal: {goal} lbs.\")\n",
        "        print(f\"Prediction: {int(ending_prediction[0])} lbs.\")\n",
        "\n",
        "    ax.set_xlabel(\"Time ->\")\n",
        "    ax.set_ylabel(\"Weight ->\")\n",
        "    ax.legend()\n",
        "    plt.show()\n",
        "\n",
        "\n",
        "for exercise, exercise_df in orm_groups:\n",
        "    header(f\"{exercise} One-Rep-Max Analysis\")\n",
        "    graph_exercise_orm(exercise, exercise_df)\n",
        "    goal = orm_goals.get(exercise)\n",
        "    vertical_sep(count=4)"
      ],
      "execution_count": null,
      "outputs": []
    },
    {
      "cell_type": "markdown",
      "metadata": {
        "id": "ccrP-zzKNoHl"
      },
      "source": [
        "## Total Weight Moved"
      ]
    },
    {
      "cell_type": "code",
      "metadata": {
        "id": "WVN7SpHQNrCv"
      },
      "source": [
        "df"
      ],
      "execution_count": null,
      "outputs": []
    },
    {
      "cell_type": "code",
      "metadata": {
        "id": "8XYewKs9OlVr"
      },
      "source": [
        "def aggregate(series):\n",
        "    print(series)\n",
        "    return 0\n",
        "\n",
        "df[\"WeightMoved\"] = df.Weight * df.Reps\n",
        "weight_moved = df.groupby([\"Workout\", \"Date\"], as_index=False).stack().agg({\"WeightMoved\": [\"sum\"]})\n",
        "for x in weight_moved:\n",
        "    print(type(x))\n",
        "# # Create a group containing the ORM for each exercise for each day\n",
        "# workout_groups = df.groupby([\"Workout\", \"Exercise\", \"Date\"], as_index=False).agg({\"WeightMoved\": [\"sum\"]})\n",
        "\n",
        "# # Group the ORM data by exercise\n",
        "# # orm_groups = orm_groups.groupby(\"Exercise\")\n",
        "# workout_groups"
      ],
      "execution_count": null,
      "outputs": []
    },
    {
      "cell_type": "code",
      "metadata": {
        "id": "XPmULMeyWHzy"
      },
      "source": [
        "df.set_index([\"Workout\", df.index]).head(25)"
      ],
      "execution_count": null,
      "outputs": []
    },
    {
      "cell_type": "code",
      "metadata": {
        "id": "O0xpnWt-WXba",
        "outputId": "5f537113-8b1b-4d2a-93cb-67cd1d986d3e",
        "colab": {
          "base_uri": "https://localhost:8080/",
          "height": 166
        }
      },
      "source": [
        "df.set_index([\"Workout\", df.index]).stack().groupby(\"Workout\").agg({\"Exercise\": \"Exercise\", \"WeightMoved\": [\"sum\"]})"
      ],
      "execution_count": 6,
      "outputs": [
        {
          "output_type": "error",
          "ename": "NameError",
          "evalue": "ignored",
          "traceback": [
            "\u001b[0;31m---------------------------------------------------------------------------\u001b[0m",
            "\u001b[0;31mNameError\u001b[0m                                 Traceback (most recent call last)",
            "\u001b[0;32m<ipython-input-6-44ee0414020b>\u001b[0m in \u001b[0;36m<module>\u001b[0;34m()\u001b[0m\n\u001b[0;32m----> 1\u001b[0;31m \u001b[0mdf\u001b[0m\u001b[0;34m.\u001b[0m\u001b[0mset_index\u001b[0m\u001b[0;34m(\u001b[0m\u001b[0;34m[\u001b[0m\u001b[0;34m\"Workout\"\u001b[0m\u001b[0;34m,\u001b[0m \u001b[0mdf\u001b[0m\u001b[0;34m.\u001b[0m\u001b[0mindex\u001b[0m\u001b[0;34m]\u001b[0m\u001b[0;34m)\u001b[0m\u001b[0;34m.\u001b[0m\u001b[0mstack\u001b[0m\u001b[0;34m(\u001b[0m\u001b[0;34m)\u001b[0m\u001b[0;34m.\u001b[0m\u001b[0mgroupby\u001b[0m\u001b[0;34m(\u001b[0m\u001b[0;34m\"Workout\"\u001b[0m\u001b[0;34m)\u001b[0m\u001b[0;34m.\u001b[0m\u001b[0magg\u001b[0m\u001b[0;34m(\u001b[0m\u001b[0;34m{\u001b[0m\u001b[0;34m\"Exercise\"\u001b[0m\u001b[0;34m:\u001b[0m \u001b[0;34m\"Exercise\"\u001b[0m\u001b[0;34m,\u001b[0m \u001b[0;34m\"WeightMoved\"\u001b[0m\u001b[0;34m:\u001b[0m \u001b[0;34m[\u001b[0m\u001b[0;34m\"sum\"\u001b[0m\u001b[0;34m]\u001b[0m\u001b[0;34m}\u001b[0m\u001b[0;34m)\u001b[0m\u001b[0;34m\u001b[0m\u001b[0;34m\u001b[0m\u001b[0m\n\u001b[0m",
            "\u001b[0;31mNameError\u001b[0m: name 'df' is not defined"
          ]
        }
      ]
    },
    {
      "cell_type": "code",
      "metadata": {
        "id": "4cGuFXsMug22",
        "outputId": "21b3e7da-73d6-4f69-9531-b8a9c8dbee04",
        "colab": {
          "base_uri": "https://localhost:8080/",
          "height": 402
        }
      },
      "source": [
        "# Load goals from the CSV\n",
        "bw_df = pd.read_csv(\"https://raw.githubusercontent.com/dstanek/lifting/main/BodyWeightTracking.csv\")\n",
        "\n",
        "bw_df[\"FatWeight\"] = bw_df.Weight * (bw_df.BodyFatPct / 100)\n",
        "bw_df[\"WaterWeight\"] = bw_df.Weight * (bw_df.BodyWaterPct / 100)\n",
        "bw_df[\"BoneMassWeight\"] = bw_df.Weight * (bw_df.BoneMassPct / 100)\n",
        "bw_df[\"MuscleMassWeight\"] =  bw_df.Weight - bw_df.FatWeight - bw_df.WaterWeight - bw_df.BoneMassWeight\n",
        "\n",
        "bw_df"
      ],
      "execution_count": 12,
      "outputs": [
        {
          "output_type": "execute_result",
          "data": {
            "text/html": [
              "<div>\n",
              "<style scoped>\n",
              "    .dataframe tbody tr th:only-of-type {\n",
              "        vertical-align: middle;\n",
              "    }\n",
              "\n",
              "    .dataframe tbody tr th {\n",
              "        vertical-align: top;\n",
              "    }\n",
              "\n",
              "    .dataframe thead th {\n",
              "        text-align: right;\n",
              "    }\n",
              "</style>\n",
              "<table border=\"1\" class=\"dataframe\">\n",
              "  <thead>\n",
              "    <tr style=\"text-align: right;\">\n",
              "      <th></th>\n",
              "      <th>Date</th>\n",
              "      <th>Weight</th>\n",
              "      <th>BMI</th>\n",
              "      <th>BodyFatPct</th>\n",
              "      <th>BodyWaterPct</th>\n",
              "      <th>BoneMassPct</th>\n",
              "      <th>WeightGoal</th>\n",
              "      <th>FatWeight</th>\n",
              "      <th>WaterWeight</th>\n",
              "      <th>BoneMassWeight</th>\n",
              "      <th>MuscleMassWeight</th>\n",
              "    </tr>\n",
              "  </thead>\n",
              "  <tbody>\n",
              "    <tr>\n",
              "      <th>0</th>\n",
              "      <td>1/4/2020</td>\n",
              "      <td>219.0</td>\n",
              "      <td>34.3</td>\n",
              "      <td>33.7</td>\n",
              "      <td>48.3</td>\n",
              "      <td>8.0</td>\n",
              "      <td>NaN</td>\n",
              "      <td>73.803</td>\n",
              "      <td>105.777</td>\n",
              "      <td>17.52</td>\n",
              "      <td>21.9</td>\n",
              "    </tr>\n",
              "    <tr>\n",
              "      <th>1</th>\n",
              "      <td>1/5/2020</td>\n",
              "      <td>NaN</td>\n",
              "      <td>NaN</td>\n",
              "      <td>NaN</td>\n",
              "      <td>NaN</td>\n",
              "      <td>NaN</td>\n",
              "      <td>NaN</td>\n",
              "      <td>NaN</td>\n",
              "      <td>NaN</td>\n",
              "      <td>NaN</td>\n",
              "      <td>NaN</td>\n",
              "    </tr>\n",
              "    <tr>\n",
              "      <th>2</th>\n",
              "      <td>1/6/2020</td>\n",
              "      <td>NaN</td>\n",
              "      <td>NaN</td>\n",
              "      <td>NaN</td>\n",
              "      <td>NaN</td>\n",
              "      <td>NaN</td>\n",
              "      <td>NaN</td>\n",
              "      <td>NaN</td>\n",
              "      <td>NaN</td>\n",
              "      <td>NaN</td>\n",
              "      <td>NaN</td>\n",
              "    </tr>\n",
              "    <tr>\n",
              "      <th>3</th>\n",
              "      <td>1/7/2020</td>\n",
              "      <td>NaN</td>\n",
              "      <td>NaN</td>\n",
              "      <td>NaN</td>\n",
              "      <td>NaN</td>\n",
              "      <td>NaN</td>\n",
              "      <td>NaN</td>\n",
              "      <td>NaN</td>\n",
              "      <td>NaN</td>\n",
              "      <td>NaN</td>\n",
              "      <td>NaN</td>\n",
              "    </tr>\n",
              "    <tr>\n",
              "      <th>4</th>\n",
              "      <td>1/8/2020</td>\n",
              "      <td>NaN</td>\n",
              "      <td>NaN</td>\n",
              "      <td>NaN</td>\n",
              "      <td>NaN</td>\n",
              "      <td>NaN</td>\n",
              "      <td>NaN</td>\n",
              "      <td>NaN</td>\n",
              "      <td>NaN</td>\n",
              "      <td>NaN</td>\n",
              "      <td>NaN</td>\n",
              "    </tr>\n",
              "    <tr>\n",
              "      <th>...</th>\n",
              "      <td>...</td>\n",
              "      <td>...</td>\n",
              "      <td>...</td>\n",
              "      <td>...</td>\n",
              "      <td>...</td>\n",
              "      <td>...</td>\n",
              "      <td>...</td>\n",
              "      <td>...</td>\n",
              "      <td>...</td>\n",
              "      <td>...</td>\n",
              "      <td>...</td>\n",
              "    </tr>\n",
              "    <tr>\n",
              "      <th>159</th>\n",
              "      <td>6/11/2020</td>\n",
              "      <td>NaN</td>\n",
              "      <td>NaN</td>\n",
              "      <td>NaN</td>\n",
              "      <td>NaN</td>\n",
              "      <td>NaN</td>\n",
              "      <td>NaN</td>\n",
              "      <td>NaN</td>\n",
              "      <td>NaN</td>\n",
              "      <td>NaN</td>\n",
              "      <td>NaN</td>\n",
              "    </tr>\n",
              "    <tr>\n",
              "      <th>160</th>\n",
              "      <td>6/12/2020</td>\n",
              "      <td>NaN</td>\n",
              "      <td>NaN</td>\n",
              "      <td>NaN</td>\n",
              "      <td>NaN</td>\n",
              "      <td>NaN</td>\n",
              "      <td>NaN</td>\n",
              "      <td>NaN</td>\n",
              "      <td>NaN</td>\n",
              "      <td>NaN</td>\n",
              "      <td>NaN</td>\n",
              "    </tr>\n",
              "    <tr>\n",
              "      <th>161</th>\n",
              "      <td>6/13/2020</td>\n",
              "      <td>NaN</td>\n",
              "      <td>NaN</td>\n",
              "      <td>NaN</td>\n",
              "      <td>NaN</td>\n",
              "      <td>NaN</td>\n",
              "      <td>NaN</td>\n",
              "      <td>NaN</td>\n",
              "      <td>NaN</td>\n",
              "      <td>NaN</td>\n",
              "      <td>NaN</td>\n",
              "    </tr>\n",
              "    <tr>\n",
              "      <th>162</th>\n",
              "      <td>6/14/2020</td>\n",
              "      <td>NaN</td>\n",
              "      <td>NaN</td>\n",
              "      <td>NaN</td>\n",
              "      <td>NaN</td>\n",
              "      <td>NaN</td>\n",
              "      <td>NaN</td>\n",
              "      <td>NaN</td>\n",
              "      <td>NaN</td>\n",
              "      <td>NaN</td>\n",
              "      <td>NaN</td>\n",
              "    </tr>\n",
              "    <tr>\n",
              "      <th>163</th>\n",
              "      <td>6/15/2020</td>\n",
              "      <td>NaN</td>\n",
              "      <td>NaN</td>\n",
              "      <td>NaN</td>\n",
              "      <td>NaN</td>\n",
              "      <td>NaN</td>\n",
              "      <td>179.0</td>\n",
              "      <td>NaN</td>\n",
              "      <td>NaN</td>\n",
              "      <td>NaN</td>\n",
              "      <td>NaN</td>\n",
              "    </tr>\n",
              "  </tbody>\n",
              "</table>\n",
              "<p>164 rows × 11 columns</p>\n",
              "</div>"
            ],
            "text/plain": [
              "          Date  Weight   BMI  ...  WaterWeight  BoneMassWeight  MuscleMassWeight\n",
              "0     1/4/2020   219.0  34.3  ...      105.777           17.52              21.9\n",
              "1     1/5/2020     NaN   NaN  ...          NaN             NaN               NaN\n",
              "2     1/6/2020     NaN   NaN  ...          NaN             NaN               NaN\n",
              "3     1/7/2020     NaN   NaN  ...          NaN             NaN               NaN\n",
              "4     1/8/2020     NaN   NaN  ...          NaN             NaN               NaN\n",
              "..         ...     ...   ...  ...          ...             ...               ...\n",
              "159  6/11/2020     NaN   NaN  ...          NaN             NaN               NaN\n",
              "160  6/12/2020     NaN   NaN  ...          NaN             NaN               NaN\n",
              "161  6/13/2020     NaN   NaN  ...          NaN             NaN               NaN\n",
              "162  6/14/2020     NaN   NaN  ...          NaN             NaN               NaN\n",
              "163  6/15/2020     NaN   NaN  ...          NaN             NaN               NaN\n",
              "\n",
              "[164 rows x 11 columns]"
            ]
          },
          "metadata": {
            "tags": []
          },
          "execution_count": 12
        }
      ]
    },
    {
      "cell_type": "code",
      "metadata": {
        "id": "7kttbsJGxoQA",
        "outputId": "bf648b53-97c2-4508-8fad-8a0c7934fd36",
        "colab": {
          "base_uri": "https://localhost:8080/",
          "height": 718
        }
      },
      "source": [
        "stacked_columns = [\"FatWeight\", \"WaterWeight\", \"BoneMassWeight\", \"MuscleMassWeight\"]\n",
        "bw_df.dropna(subset=stacked_columns).plot.area(y=stacked_columns)"
      ],
      "execution_count": 26,
      "outputs": [
        {
          "output_type": "execute_result",
          "data": {
            "text/plain": [
              "<matplotlib.axes._subplots.AxesSubplot at 0x7f1623f4e518>"
            ]
          },
          "metadata": {
            "tags": []
          },
          "execution_count": 26
        },
        {
          "output_type": "display_data",
          "data": {
            "image/png": "[encoded data removed]",
            "text/plain": [
              "<Figure size 1296x864 with 1 Axes>"
            ]
          },
          "metadata": {
            "tags": [],
            "needs_background": "light"
          }
        }
      ]
    },
    {
      "cell_type": "code",
      "metadata": {
        "id": "3-n97vyQzruD",
        "outputId": "8c1ea756-abf4-4ff7-d132-9ddf453470a4",
        "colab": {
          "base_uri": "https://localhost:8080/",
          "height": 718
        }
      },
      "source": [
        "bw_df.plot(y=\"Weight\")"
      ],
      "execution_count": 27,
      "outputs": [
        {
          "output_type": "execute_result",
          "data": {
            "text/plain": [
              "<matplotlib.axes._subplots.AxesSubplot at 0x7f16240685f8>"
            ]
          },
          "metadata": {
            "tags": []
          },
          "execution_count": 27
        },
        {
          "output_type": "display_data",
          "data": {
            "image/png": "[encoded data removed]",
            "text/plain": [
              "<Figure size 1296x864 with 1 Axes>"
            ]
          },
          "metadata": {
            "tags": [],
            "needs_background": "light"
          }
        }
      ]
    }
  ]
}